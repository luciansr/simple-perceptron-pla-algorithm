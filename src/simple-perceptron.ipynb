{
 "cells": [
  {
   "cell_type": "markdown",
   "metadata": {},
   "source": [
    "# Simple Perceptron Learning Algorithm - PLA\n",
    "\n",
    "## Introdução\n",
    "\n",
    "### Perceptron - Redes Neurais [ref.](https://www.monolitonimbus.com.br/perceptron-redes-neurais/)   \n",
    "\n",
    "\n",
    "As Redes Neurais Artificiais (RNAs) são modelos computacionais inspirados no sistema nervoso central, ou seja, capazes de realizar o aprendizado de máquina (machine learning) e reconhecimento de padrões. O tipo mais simples de rede neural artificial foi proposto em 1958 por Frank Rosenblatt, conhecido como perceptron. A palavra em latim para o verbo compreender é “percipio“, e sua forma supina é “perceptum”, ou seja, a rede deve ser capaz de compreender o mundo exterior. Esse algoritmo de aprendizagem supervisionada considera um período de treinamento (com valores de entrada e saída) para definir se uma nova entrada pertence a alguma classe específica ou não.  \n",
    "\n",
    "O Mark I Perceptron foi uma máquina projetada para reconhecimento de imagem e foi a primeira implementação do algoritmo. Tinha uma matriz de 400 fotocélulas, conectadas aleatoriamente aos “neurônios”. Os pesos foram codificados em potenciômetros, e as atualizações de peso durante a aprendizagem eram realizadas por motores elétricos. Atualmente, o algoritmo pode ser implantado em qualquer computador usando diversas linguagens de programação.  \n",
    "\n",
    "O Perceptron é um classificador linear, ou seja, os problemas solucionados por ele devem ser linearmente separáveis. O gráfico a seguir mostra um conjunto de pontos bi-dimensional que pode ser separado linearmente – note que é possível passar uma linha reta entre os dois grupos de cores diferentes:  \n"
   ]
  },
  {
   "cell_type": "markdown",
   "metadata": {},
   "source": [
    " ![Grafico](../img/grafico_perceptron.jpg)"
   ]
  },
  {
   "cell_type": "markdown",
   "metadata": {},
   "source": [
    "A separação entre as duas classe está representada por uma reta, já que é um gráfico de duas dimensões – se fossem três dimensões, seria um plano; 4 dimensões ou mais, seria um hiperplano. Ainda no gráfico, a reta define o limite entre duas regiões, por isso é chamada de função limiar. Essa função é responsável por determinar a forma e a intensidade de alteração dos valores transmitidos de um neurônio a outro. A UTCS possui uma versão online desse problema, na qual é possível incluir pontos vermelhos e azuis, recalculando-se automaticamente a melhor reta para separar os conjuntos e depois apresentando a classificação pelo algoritmo pressionando os botões “train” e “classify”.\n",
    "\n",
    "Agora imagine se existissem dois pontos vermelhos, um em $(-1,-1)$ e outro em $(1,1)$, e dois azuis, um em $(-1,1)$ e outro em $(1,-1)$. Não teria como passar uma linha reta dividindo o gráfico em duas regiões. Esse é conhecido como “problema XOR” (“ou exclusivo”), sendo que XOR é uma operação lógica entre dois operandos que resulta em um valor lógico verdadeiro se e somente se exatamente um dos operandos possui valor verdadeiro. Esse problema pode ser solucionado com a criação de uma camada intermediária em uma rede com dois neurônios e graficamente com uma estrutura em três (ou mais) dimensões. Desse modo, é possível o uso de funções não-lineares. "
   ]
  },
  {
   "cell_type": "markdown",
   "metadata": {},
   "source": [
    "Em nossa abordagem iremos considerar o caso em que os dados são separáveis linearmente."
   ]
  },
  {
   "cell_type": "markdown",
   "metadata": {
    "colab_type": "text",
    "id": "kOhGo1U6YHpR"
   },
   "source": [
    "## 1. Criando uma função target aleatória"
   ]
  },
  {
   "cell_type": "markdown",
   "metadata": {},
   "source": [
    "Para começar o experimento, uma função target aleatória será gerada. Essa função será usada como base para geração de nossa base de treinamento e testes. Esta função será gerada como um vetor com ```1 linha``` e ```3 colunas``` já que estamos trabalhando no $R_2$ e o objetivo é gerar uma target function no formato $t_1x_1 + t_2x_2 + b = 0$ onde o vetor representará $[t_1, t_2, b]$. \n",
    "\n",
    "Para gerar um função target aleatória será utilizado o método ```np.random.rand(<dimensions>)``` onde pode-se definir quais as dimensoes da matriz gerada. A função rand da biblioteca ```numpy``` gera números aleatórios entre $[0, 1)$. Para obter-se uma função com valores entre $-1$ e $1$ multiplica-se por $2$ e subtrai-se $1$ para que $[0,1) \\to [-1,1)$."
   ]
  },
  {
   "cell_type": "code",
   "execution_count": 13,
   "metadata": {
    "colab": {
     "autoexec": {
      "startup": false,
      "wait_interval": 0
     },
     "base_uri": "https://localhost:8080/",
     "height": 364
    },
    "colab_type": "code",
    "executionInfo": {
     "elapsed": 830,
     "status": "ok",
     "timestamp": 1533179229996,
     "user": {
      "displayName": "Lucian Sturião",
      "photoUrl": "//lh6.googleusercontent.com/-EQEjkTuE5bo/AAAAAAAAAAI/AAAAAAAAhDs/hf44b7V3N-U/s50-c-k-no/photo.jpg",
      "userId": "109847505924129083379"
     },
     "user_tz": 180
    },
    "id": "jRJsQogakhsn",
    "outputId": "a8f87bd4-4bad-40cf-bada-1e6afd5cc54f"
   },
   "outputs": [
    {
     "name": "stdout",
     "output_type": "stream",
     "text": [
      "targetFuncion = [ 0.63926317  0.2519196  -0.02247849]\n"
     ]
    }
   ],
   "source": [
    "import numpy as np\n",
    "\n",
    "targetFunction = np.random.rand(3)*2 - 1\n",
    "\n",
    "print('targetFuncion = ' + str(targetFunction))"
   ]
  },
  {
   "cell_type": "markdown",
   "metadata": {},
   "source": [
    "Foi gerada uma função target aleatória com 3 valores que representa o formato $t_1x_1 + t_2x_2 + b = 0$ como falado anteriormente. Para ser feita a visualização desta função no $R_2$, deve-se modificar a mesma para um formato do tipo $y = ax + b$, que é o formato usual de uma reta.\n",
    "\n",
    "Para fazer isso, será feita a manipulação do vetor $[t_1, t_2, b]$ de forma que $x_2$ seja $y$:\n",
    "\n",
    "$$t_1x_1 + t_2x_2 + b = 0$$\n",
    "\n",
    "$$t_2x_2 = - t_1x_1 - b$$\n",
    "\n",
    "$$x_2 = - \\frac{t_1x_1}{t_2} - \\frac{b}{t_2}$$\n",
    "\n",
    "Sendo assim, pode-se interpretar que $- t_1x_1 / t_2$ representa a inclinação da reta da target function, e que $- b / t_2$ representa o offset de $y$ da mesma para o ponto de origem $(x = 0, y = 0)$ (altura).\n",
    "\n",
    "Logo modificando para o formato $y = ax + b$:\n",
    "\n",
    "$$y = x_2$$\n",
    "\n",
    "$$a = - \\frac{t_1}{t_2}$$\n",
    "\n",
    "$$b = - \\frac{b}{t_2}$$\n",
    "\n",
    "E sendo ```targetFunction =``` $[t_1, t_2, b]$:"
   ]
  },
  {
   "cell_type": "code",
   "execution_count": 14,
   "metadata": {},
   "outputs": [
    {
     "name": "stdout",
     "output_type": "stream",
     "text": [
      "targetFunction A = -2.53756816953\n",
      "targetFunction B = 0.089228816945\n"
     ]
    }
   ],
   "source": [
    "targetFunctionA = - (targetFunction[0]/targetFunction[1])\n",
    "targetFunctionB = - (targetFunction[2]/targetFunction[1])\n",
    "\n",
    "print('targetFunction A = ' + str(targetFunctionA))\n",
    "print('targetFunction B = ' + str(targetFunctionB))"
   ]
  },
  {
   "cell_type": "markdown",
   "metadata": {},
   "source": [
    "Pode-se então visualizar esta target function:"
   ]
  },
  {
   "cell_type": "code",
   "execution_count": 15,
   "metadata": {},
   "outputs": [
    {
     "data": {
      "image/png": "[encoded data removed]",
      "text/plain": [
       "<matplotlib.figure.Figure at 0x1088e6da0>"
      ]
     },
     "metadata": {},
     "output_type": "display_data"
    }
   ],
   "source": [
    "import matplotlib.pyplot as plt\n",
    "import numpy as np\n",
    "\n",
    "def xInTargetFunction(x):\n",
    "    return targetFunctionA*x + targetFunctionB\n",
    "\n",
    "xValues = np.linspace(-1, 1, 100)\n",
    "yValues = np.array([])\n",
    "\n",
    "for x in xValues:\n",
    "    yValues = np.append(yValues, xInTargetFunction(x))\n",
    "\n",
    "plt.style.use('seaborn-whitegrid')\n",
    "plt.plot(xValues, yValues)\n",
    "axes = plt.gca()\n",
    "axes.set_xlim([-1,1])\n",
    "axes.set_ylim([-1,1])\n",
    "plt.show()\n"
   ]
  },
  {
   "cell_type": "markdown",
   "metadata": {
    "colab_type": "text",
    "id": "gnF6H3R_Y8Wb"
   },
   "source": [
    "## 2. Gerando Dados a partir da função de geração (target)\n",
    "\n",
    "Dada a função gerada, pode-se agora gerar pontos aleatórios e classificá-los a partir da mesma para gerar pontos de treinamento. A ideia aqui é gerar o conjunto $X$ matriz $(100,2)$ com pontos aleatórios $[-1,1]$ $x$ $[-1,1]$ (será utilizado o mesmo método ```numpy.random.rand``` utilizado anteriormente):"
   ]
  },
  {
   "cell_type": "code",
   "execution_count": 16,
   "metadata": {},
   "outputs": [
    {
     "name": "stdout",
     "output_type": "stream",
     "text": [
      "[[ 0.35991061 -0.45295658]\n",
      " [-0.20470264 -0.79765476]\n",
      " [ 0.4542671   0.57036428]\n",
      " [ 0.85195824 -0.91967774]\n",
      " [ 0.90697334  0.98214384]\n",
      " [-0.24174136 -0.1344646 ]\n",
      " [ 0.29680716  0.88526111]\n",
      " [ 0.17890588  0.74452719]\n",
      " [ 0.27402123  0.44181303]\n",
      " [-0.26411649 -0.70679961]] \n",
      "[...]\n"
     ]
    }
   ],
   "source": [
    "import numpy as np\n",
    "\n",
    "NUMBER_OF_POINTS = 100\n",
    "\n",
    "dataX = np.random.rand(NUMBER_OF_POINTS,2)*2 - 1\n",
    "\n",
    "# mostrando somente primeiros 10 itens\n",
    "print(str(dataX[:10]) + \" \\n[...]\")"
   ]
  },
  {
   "cell_type": "markdown",
   "metadata": {},
   "source": [
    "Classificá-los usando a função:"
   ]
  },
  {
   "cell_type": "code",
   "execution_count": 17,
   "metadata": {},
   "outputs": [],
   "source": [
    "def classifica(linha, pesos):\n",
    "  soma = pesos[0]*linha[0] + pesos[1]*linha[1] +  pesos[2]\n",
    "  \n",
    "  if (soma >= 0.0):\n",
    "    return 1\n",
    "  \n",
    "  return 0"
   ]
  },
  {
   "cell_type": "markdown",
   "metadata": {},
   "source": [
    "E gerar as labels de resultado $Y$ a partir da classificação de $X$ com a função target."
   ]
  },
  {
   "cell_type": "code",
   "execution_count": 18,
   "metadata": {},
   "outputs": [
    {
     "name": "stdout",
     "output_type": "stream",
     "text": [
      "[ 1.  0.  1.  1.  1.  0.  1.  1.  1.  0.] [...]\n"
     ]
    }
   ],
   "source": [
    "dataY = np.array([])\n",
    "\n",
    "for x in dataX:\n",
    "    dataY = np.append(dataY, classifica(x, targetFunction))\n",
    "\n",
    "# mostrando somente primeiros 10 itens\n",
    "print(str(dataY[:10]) + \" [...]\")"
   ]
  },
  {
   "cell_type": "markdown",
   "metadata": {},
   "source": [
    "Agora pode-se ver o resultado no gráfico:"
   ]
  },
  {
   "cell_type": "code",
   "execution_count": 19,
   "metadata": {},
   "outputs": [
    {
     "data": {
      "image/png": "[encoded data removed]",
      "text/plain": [
       "<matplotlib.figure.Figure at 0x111efa278>"
      ]
     },
     "metadata": {},
     "output_type": "display_data"
    }
   ],
   "source": [
    "plt.style.use('seaborn-whitegrid')\n",
    "plt.plot(xValues, yValues)\n",
    "\n",
    "# cores a ser mostradas\n",
    "yColors = np.array([])\n",
    "\n",
    "for y in dataY:\n",
    "    yColors = np.append(yColors, 'b' if y == 0 else 'r')\n",
    "\n",
    "plt.plot(xValues, yValues)\n",
    "plt.scatter(dataX.T[0], dataX.T[1],c=yColors)\n",
    "axes = plt.gca()\n",
    "axes.set_xlim([-1,1])\n",
    "axes.set_ylim([-1,1])\n",
    "plt.show()"
   ]
  },
  {
   "cell_type": "markdown",
   "metadata": {
    "colab_type": "text",
    "id": "fZYrnUKgZJk7"
   },
   "source": [
    "## 3. Implementando o PLA\n",
    "\n",
    "O algoritmo de predição de um perceptron em si é muito simples. Data a função de classificação:"
   ]
  },
  {
   "cell_type": "code",
   "execution_count": 20,
   "metadata": {
    "colab": {
     "autoexec": {
      "startup": false,
      "wait_interval": 0
     }
    },
    "colab_type": "code",
    "id": "ev2Jv4ZFcIJD"
   },
   "outputs": [],
   "source": [
    "def classifica(linha, pesos):\n",
    "  soma = pesos[0]*linha[0] + pesos[1]*linha[1] +  pesos[2]\n",
    "  \n",
    "  if (soma >= 0.0):\n",
    "    return 1\n",
    "  \n",
    "  return 0"
   ]
  },
  {
   "cell_type": "markdown",
   "metadata": {},
   "source": [
    "Cria-se um vetor $w$ com $3$ posições, nesse caso que usamos $R_2$, com valores zerados. Este vetor será utilizado para aprender-se (aproximar) a função target criada anteriormente:"
   ]
  },
  {
   "cell_type": "code",
   "execution_count": 21,
   "metadata": {},
   "outputs": [
    {
     "name": "stdout",
     "output_type": "stream",
     "text": [
      "[0 0 0]\n"
     ]
    }
   ],
   "source": [
    "import numpy as np\n",
    "\n",
    "perceptronW = np.array([0,0,0])\n",
    "\n",
    "print(perceptronW)"
   ]
  },
  {
   "cell_type": "markdown",
   "metadata": {
    "colab_type": "text",
    "id": "lM369m2eds1K"
   },
   "source": [
    "Para aprender a função target o algoritmo é muito simples:\n",
    "\n",
    "1. Iterar sobre os pontos de treinamento $X_t$, para cada ponto:\n",
    "2. Se classificar aquele ponto utilizando $w_t$ retorna um valor correto de acordo com $Y$, continuar; \n",
    "3. Se classificar aquele ponto utilizando $w_t$ retorna um valor incorreto de acordo com $Y$:  \n",
    "   * Se $y_i$ é positivo e $classifica(x_i, w_t)$ é negativo (zero), então: $w_{t+1} \\leftarrow w_t + x_i$     \n",
    "   * Se $y_i$ é negativo (zero) e $classifica(x_i, w_t)$ é positivo, então: $w_{t+1} \\leftarrow w_t - x_i$  \n",
    "     "
   ]
  },
  {
   "cell_type": "markdown",
   "metadata": {},
   "source": [
    "Algoritmo:"
   ]
  },
  {
   "cell_type": "code",
   "execution_count": 22,
   "metadata": {},
   "outputs": [],
   "source": [
    "# lr = learning rate\n",
    "def fit(X, TargetF, w, maxIter = -1, lr = 1):\n",
    "    i = 0\n",
    "    trainingW = w\n",
    "    while True:\n",
    "        changed = False\n",
    "        i = i+1\n",
    "        if maxIter > -1 and i > maxIter:\n",
    "            break\n",
    "        for x in X:\n",
    "            pred = classifica(x, trainingW)\n",
    "            exp = classifica(x, TargetF)\n",
    "            \n",
    "\n",
    "            if pred != exp:\n",
    "                changed = True\n",
    "                trainingW = trainingW + lr * (exp-pred) * np.append(x, 1)\n",
    "        \n",
    "        if changed == False:\n",
    "            break\n",
    "        \n",
    "    \n",
    "    return trainingW, i"
   ]
  },
  {
   "cell_type": "code",
   "execution_count": 23,
   "metadata": {},
   "outputs": [
    {
     "name": "stdout",
     "output_type": "stream",
     "text": [
      "fittedW:\n",
      "[ 0.45106548  0.18337603 -0.03      ]\n",
      "targetFunction:\n",
      "[ 0.63926317  0.2519196  -0.02247849]\n",
      "quantidade de iterações até a conversão: 92\n"
     ]
    }
   ],
   "source": [
    "fittedW, numberOfIterations = fit(dataX, targetFunction, perceptronW, 1000, 0.03)\n",
    "\n",
    "print('fittedW:')\n",
    "print(fittedW)\n",
    "print('targetFunction:')\n",
    "print(targetFunction)\n",
    "print('quantidade de iterações até a conversão: ' + str(numberOfIterations))      "
   ]
  },
  {
   "cell_type": "markdown",
   "metadata": {},
   "source": [
    "Faz-se então as transformações necessárias em ```fittedW``` para se desenhar o gráfico:"
   ]
  },
  {
   "cell_type": "code",
   "execution_count": 24,
   "metadata": {},
   "outputs": [
    {
     "name": "stdout",
     "output_type": "stream",
     "text": [
      "fittedW A = -2.45978432482\n",
      "fittedW B = 0.163598263312\n",
      "\n",
      "\n",
      "targetFunction A = -2.53756816953\n",
      "targetFunction B = 0.089228816945\n"
     ]
    },
    {
     "data": {
      "image/png": "[encoded data removed]",
      "text/plain": [
       "<matplotlib.figure.Figure at 0x111f4e4e0>"
      ]
     },
     "metadata": {},
     "output_type": "display_data"
    }
   ],
   "source": [
    "import matplotlib.pyplot as plt\n",
    "import numpy as np\n",
    "\n",
    "wA = - (fittedW[0]/fittedW[1])\n",
    "wB = - (fittedW[2]/fittedW[1])\n",
    "\n",
    "\n",
    "print('fittedW A = ' + str(wA))\n",
    "print('fittedW B = ' + str(wB))\n",
    "print('\\n')\n",
    "print('targetFunction A = ' + str(targetFunctionA))\n",
    "print('targetFunction B = ' + str(targetFunctionB))\n",
    "\n",
    "def xInFittedW(x):\n",
    "    return wA*x + wB\n",
    "\n",
    "xValues = np.linspace(-1, 1, 100)\n",
    "wyValues = np.array([])\n",
    "\n",
    "for x in xValues:\n",
    "    wyValues = np.append(wyValues, xInFittedW(x))\n",
    "\n",
    "plt.style.use('seaborn-whitegrid')\n",
    "plt.plot(xValues, wyValues, c = '#FF7F50')\n",
    "plt.plot(xValues, yValues, c = 'g')\n",
    "plt.scatter(dataX.T[0], dataX.T[1],c=yColors)\n",
    "axes = plt.gca()\n",
    "axes.set_xlim([-1,1])\n",
    "axes.set_ylim([-1,1])\n",
    "plt.show()\n"
   ]
  },
  {
   "cell_type": "markdown",
   "metadata": {},
   "source": [
    "No gráfico acima, a linha verde é a função $target$, e a linha laranja é a reta de classificação aprendida $w$.\n",
    "\n",
    "Observa-se que claramente, para os dados utilizados no treinamento, o peso $w$ atinge $100\\%$ de acurácia visto que este é o critério de parada. Para sabermos qual real generalização o PLA conseguiu, deve-se testar com dados não utilizados durante o treinamento. Esta estratégia será adotada na resolução dos exercícios."
   ]
  },
  {
   "cell_type": "markdown",
   "metadata": {},
   "source": [
    "   "
   ]
  },
  {
   "cell_type": "markdown",
   "metadata": {},
   "source": [
    "## Exercícios\n",
    "\n",
    "### O Algoritmo de Aprendizagem Perceptron (PLA)\n",
    "Neste problema, você vai criar a sua funão target (alvo) $f$ e o conjunto de dados D para verificar como o Algoritmo de Aprendizagem Perceptron trabalha.\n",
    "\n",
    "Em cada execução, escolha uma reta aleatóia no plano como sua função target $f$.\n",
    "\n",
    "Escolha as entradas $x_n$ de uma base de dados de pontos aleatórios (uniformemente em X ), e avalie a função target em cada $x_n$ e obtenha a correspondente saída $y_n$.\n",
    "\n",
    "Para cada execução use o Algoritmo de Aprendizagem Perceptron (PLA) para encontrar $g$. Inicie o PLA como o vetor de pesos $w$ zerado (todos os pesos iguais a zero) e em cada iteração o algoritmo deverá escolher um ponto aleatório a partir do conjunto de pontos classificados incorretamente. Nós  estamos interessados em dois valores: número de iterações que o PLA precisa para convergir a $g$, e a divergência entre $f$ e $g$ na qual $P[f(x) \\neq g(x)]$ (a probabilidade que f e g vão divergir na classificação de um ponto aleatóio). Você pode calcular exatamente esta probabilidade ou você pode gerar uma aproximação gerando uma grande quantidade de conjuntos separados de pontos para estimá-la.\n",
    "\n",
    "A fim de obter uma estimativa confiável para estes dois valores, você deve repetir o experimento por 1000 execuções (cada uma como foi especificado acima) e tomar a média sobre estas execuções. "
   ]
  },
  {
   "cell_type": "markdown",
   "metadata": {},
   "source": [
    "### Resolução\n",
    "\n",
    "Utilizando as funções ```classifica``` e ```fit```:"
   ]
  },
  {
   "cell_type": "code",
   "execution_count": 25,
   "metadata": {},
   "outputs": [],
   "source": [
    "def classifica(row, f):\n",
    "    soma = f[0]*row[0] + f[1]*row[1] +  f[2]\n",
    "\n",
    "    if (soma >= 0.0):\n",
    "        return 1\n",
    "\n",
    "    return 0\n",
    "\n",
    "def fit(X, TargetF, w, lr = 0.05):\n",
    "    i = 0\n",
    "    tempW = w\n",
    "    while True:\n",
    "        changed = False\n",
    "        i = i+1\n",
    "        for x in X:\n",
    "            pred = classifica(x, tempW)\n",
    "            exp = classifica(x, TargetF)\n",
    "\n",
    "            if pred != exp:\n",
    "                changed = True\n",
    "                tempW = tempW + lr * (exp-pred) * np.append(x, 1)\n",
    "                \n",
    "        # shuffle como requisitado no enunciado        \n",
    "        np.random.shuffle(X)\n",
    "        if changed == False:\n",
    "            break\n",
    "\n",
    "    return tempW, i"
   ]
  },
  {
   "cell_type": "markdown",
   "metadata": {},
   "source": [
    "Vamos então criar uma função para auxiliar a resposta dos exercícios abaixo:"
   ]
  },
  {
   "cell_type": "code",
   "execution_count": 26,
   "metadata": {},
   "outputs": [],
   "source": [
    "import numpy as np\n",
    "\n",
    "# retorna \n",
    "#    1. número de iteracoes até a conversão \n",
    "#    2. probabilidade de erro entre f e g calculada empiricamente \n",
    "#       usando <nExperimentos> experimentos\n",
    "#\n",
    "# parametros\n",
    "#   1. nPontos = Número de pontos gerados para cada experimento\n",
    "#   2. nExperimentos = número de experimentos executados no cálculo\n",
    "#\n",
    "def calculaPerceptron(nPontos, nExperimentos = 1000):\n",
    "    nIter = 0.0;\n",
    "    errorProb = 0.0    \n",
    "    \n",
    "    for i in range(nExperimentos):\n",
    "\n",
    "        # gera funcao target F entre [-1, 1)\n",
    "        targetFunctionF = np.random.rand(3)*2 - 1\n",
    "\n",
    "        # gera N pontos\n",
    "        innerDataX = np.random.rand(nPontos,2)*2 - 1\n",
    "        \n",
    "        # inicia w com 0,0,0\n",
    "        innerW = np.array([0,0,0])\n",
    "        \n",
    "        # fit em w e recebendo numero de iteracoes\n",
    "        fittedInnerW, innerIter = fit(innerDataX, targetFunctionF, innerW)\n",
    "                \n",
    "        # gera N pontos para teste\n",
    "        innerTestDataX = np.random.rand(nPontos,2)*2 - 1\n",
    "                \n",
    "        # calculando numero de erros\n",
    "        errors = 0.0\n",
    "        for x in innerTestDataX:\n",
    "            predicted = classifica(x, fittedInnerW)\n",
    "            expected =  classifica(x, targetFunctionF)\n",
    "            if predicted != expected:\n",
    "                errors = errors + 1.0\n",
    "        \n",
    "        innerErrorProb = errors / nPontos;\n",
    "        \n",
    "        # adicionando nIteracoes e probErros nas variáveis externas\n",
    "        nIter = nIter + innerIter;\n",
    "        errorProb = errorProb + innerErrorProb\n",
    "            \n",
    "        \n",
    "    #end for\n",
    "    nIter = nIter/nExperimentos;\n",
    "    errorProb = errorProb/nExperimentos;\n",
    "    \n",
    "    return nIter, errorProb   "
   ]
  },
  {
   "cell_type": "markdown",
   "metadata": {},
   "source": [
    "1. Para N = 10. Em média quantas iterações são necessárias para que o PLA convirja para N = 10 pontos treinados?  \n",
    "   a) 1 (x)     \n",
    "   b) 15      \n",
    "   c) 300        \n",
    "   d) 5000        \n",
    "   e) 10000"
   ]
  },
  {
   "cell_type": "markdown",
   "metadata": {},
   "source": [
    "2. Qual a opção mais se aproxima de $P[f(x) \\neq g(x)]$ para $N = 10$?  \n",
    "   a) 0.001     \n",
    "   b) 0.01     \n",
    "   c) 0.1 (x)     \n",
    "   d) 0.5       \n",
    "   e) 0.8  "
   ]
  },
  {
   "cell_type": "code",
   "execution_count": 27,
   "metadata": {},
   "outputs": [
    {
     "name": "stdout",
     "output_type": "stream",
     "text": [
      "Número de iterações: 3.956\n",
      "Prob de Erro: 0.07560000000000004\n"
     ]
    }
   ],
   "source": [
    "numberOfIterations, errorProb = calculaPerceptron(10, 1000)\n",
    "\n",
    "print(\"Número de iterações: \" + str(numberOfIterations))\n",
    "print(\"Prob de Erro: \" + str(errorProb))"
   ]
  },
  {
   "cell_type": "markdown",
   "metadata": {},
   "source": [
    "3. Agora, teste N= 100. Em média quantas iterações são necessárias para que o PLA convirja para N = 100 pontos de treinamento?   \n",
    "   a) 50 (x)  \n",
    "   b) 100  \n",
    "   c) 500  \n",
    "   d) 1000    \n",
    "   e) 5000  "
   ]
  },
  {
   "cell_type": "markdown",
   "metadata": {},
   "source": [
    "4. Qual a opção mais se aproxima de $P[f(x) \\neq g(x)]$ para $N = 100$?  \n",
    "   a) 0.001  \n",
    "   b) 0.01 (x)  \n",
    "   c) 0.1  \n",
    "   d) 0.5    \n",
    "   e) 0.8 "
   ]
  },
  {
   "cell_type": "code",
   "execution_count": 28,
   "metadata": {
    "scrolled": true
   },
   "outputs": [
    {
     "name": "stdout",
     "output_type": "stream",
     "text": [
      "Número de iterações: 21.118\n",
      "Prob de Erro: 0.010489999999999921\n"
     ]
    }
   ],
   "source": [
    "numberOfIterations, errorProb = calculaPerceptron(100, 1000)\n",
    "\n",
    "print(\"Número de iterações: \" + str(numberOfIterations))\n",
    "print(\"Prob de Erro: \" + str(errorProb))"
   ]
  },
  {
   "cell_type": "markdown",
   "metadata": {},
   "source": [
    "## Conclusão\n",
    "\n",
    "   Observa-se que o algoritmo PLA é um algoritmo facilmente implementável. A interpretação dos resultados é a de que quanto maior $N$ menor o \"espaço\" disponível para que o PLA convirja para uma $g$ diferente de $f$, como observado no inicio do trabalho nos gráficos mostrados.  \n",
    "   \n",
    "   Sendo assim, quando menor espaço para erro, menor será a probabilidade de que $g$ classifique um ponto $x_i$ de forma diferente que $f$ classifica.\n",
    "   \n",
    "   Então, quanto maior $N$, menor a probabilidade de que $g(x_i) \\neq f(x_i)$ e maior o número de iterações necessárias para que o vetor $w$ convirja para os pontos de treinamento."
   ]
  }
 ],
 "metadata": {
  "colab": {
   "default_view": {},
   "name": "ICTrab1.ipynb",
   "provenance": [],
   "version": "0.3.2",
   "views": {}
  },
  "kernelspec": {
   "display_name": "Python 3",
   "language": "python",
   "name": "python3"
  },
  "language_info": {
   "codemirror_mode": {
    "name": "ipython",
    "version": 3
   },
   "file_extension": ".py",
   "mimetype": "text/x-python",
   "name": "python",
   "nbconvert_exporter": "python",
   "pygments_lexer": "ipython3",
   "version": "3.6.3"
  }
 },
 "nbformat": 4,
 "nbformat_minor": 1
}
